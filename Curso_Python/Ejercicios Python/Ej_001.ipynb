{
 "cells": [
  {
   "cell_type": "markdown",
   "id": "6817d241-980b-4467-af80-fbac1967c7e8",
   "metadata": {},
   "source": [
    "# Programa 1\n",
    "\n",
    "## Hacer un programa donde se pida un nombre por teclado y se imprima “Hola ..el_nombre_ingresado”"
   ]
  },
  {
   "cell_type": "code",
   "execution_count": 1,
   "id": "6e4842e0-13ab-42d1-b554-15f422417df7",
   "metadata": {},
   "outputs": [
    {
     "name": "stdin",
     "output_type": "stream",
     "text": [
      "Ingrese un nombre:  Alejandro Nolasco Cruz\n"
     ]
    }
   ],
   "source": [
    "nombre = input(\"Ingrese un nombre: \")"
   ]
  },
  {
   "cell_type": "code",
   "execution_count": 2,
   "id": "fab9b91b-f88b-4b87-a810-d7f0611c6727",
   "metadata": {},
   "outputs": [
    {
     "name": "stdout",
     "output_type": "stream",
     "text": [
      "Hola Alejandro Nolasco Cruz\n"
     ]
    }
   ],
   "source": [
    "print(f\"Hola {nombre}\")"
   ]
  },
  {
   "cell_type": "code",
   "execution_count": null,
   "id": "5e9f10dd-86b9-4778-83a9-53fb133f123e",
   "metadata": {},
   "outputs": [],
   "source": []
  }
 ],
 "metadata": {
  "kernelspec": {
   "display_name": "Python 3 (ipykernel)",
   "language": "python",
   "name": "python3"
  },
  "language_info": {
   "codemirror_mode": {
    "name": "ipython",
    "version": 3
   },
   "file_extension": ".py",
   "mimetype": "text/x-python",
   "name": "python",
   "nbconvert_exporter": "python",
   "pygments_lexer": "ipython3",
   "version": "3.10.12"
  }
 },
 "nbformat": 4,
 "nbformat_minor": 5
}
