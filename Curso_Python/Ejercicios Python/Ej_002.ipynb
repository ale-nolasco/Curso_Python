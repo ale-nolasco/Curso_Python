{
 "cells": [
  {
   "cell_type": "markdown",
   "id": "6817d241-980b-4467-af80-fbac1967c7e8",
   "metadata": {},
   "source": [
    "# Programa 2\n",
    "\n",
    "## Hacer un programa que solicite por teclado dos número y muestre la suma , la resta ,la multiplicación y la división de esos números"
   ]
  },
  {
   "cell_type": "code",
   "execution_count": 3,
   "id": "6e4842e0-13ab-42d1-b554-15f422417df7",
   "metadata": {},
   "outputs": [
    {
     "name": "stdin",
     "output_type": "stream",
     "text": [
      "Ingrese un primer numero:  12\n",
      "Ingrese un segundo numero:  4\n"
     ]
    }
   ],
   "source": [
    "numero1 = float(input(\"Ingrese un primer numero: \"))\n",
    "numero2 = float(input(\"Ingrese un segundo numero: \"))"
   ]
  },
  {
   "cell_type": "code",
   "execution_count": 4,
   "id": "fab9b91b-f88b-4b87-a810-d7f0611c6727",
   "metadata": {},
   "outputs": [],
   "source": [
    "suma = numero1 + numero2\n",
    "resta = numero1 - numero2\n",
    "multi = numero1 * numero2\n",
    "div = numero1 / numero2"
   ]
  },
  {
   "cell_type": "code",
   "execution_count": 5,
   "id": "5e9f10dd-86b9-4778-83a9-53fb133f123e",
   "metadata": {},
   "outputs": [
    {
     "name": "stdout",
     "output_type": "stream",
     "text": [
      "12.0 + 4.0 = 16.0\n",
      "12.0 - 4.0 = 8.0\n",
      "12.0 * 4.0 = 48.0\n",
      "12.0 / 4.0 = 3.0\n"
     ]
    }
   ],
   "source": [
    "print(f\"{numero1} + {numero2} = {suma}\")\n",
    "print(f\"{numero1} - {numero2} = {resta}\")\n",
    "print(f\"{numero1} * {numero2} = {multi}\")\n",
    "print(f\"{numero1} / {numero2} = {div}\")"
   ]
  },
  {
   "cell_type": "code",
   "execution_count": null,
   "id": "eb8255d7-2f70-41c4-81fb-eb5539df244c",
   "metadata": {},
   "outputs": [],
   "source": []
  }
 ],
 "metadata": {
  "kernelspec": {
   "display_name": "Python 3 (ipykernel)",
   "language": "python",
   "name": "python3"
  },
  "language_info": {
   "codemirror_mode": {
    "name": "ipython",
    "version": 3
   },
   "file_extension": ".py",
   "mimetype": "text/x-python",
   "name": "python",
   "nbconvert_exporter": "python",
   "pygments_lexer": "ipython3",
   "version": "3.10.12"
  }
 },
 "nbformat": 4,
 "nbformat_minor": 5
}
