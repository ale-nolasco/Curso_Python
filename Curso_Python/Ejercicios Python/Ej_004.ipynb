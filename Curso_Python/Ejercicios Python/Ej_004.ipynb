{
 "cells": [
  {
   "cell_type": "markdown",
   "id": "f283c061-6a28-424d-ab7f-7e0f17f6f7eb",
   "metadata": {},
   "source": [
    "# Programa 4\n",
    "\n",
    "## Hacer un programa que solicite una edad e imprima “Es mayor” si es mayor de edad, sino que imprima “Es menor”.\n",
    "\n",
    "\n"
   ]
  },
  {
   "cell_type": "code",
   "execution_count": 10,
   "id": "da314f2d-3c30-4d2c-bc78-e387110458a6",
   "metadata": {},
   "outputs": [
    {
     "name": "stdin",
     "output_type": "stream",
     "text": [
      "Ingrese edad:  12\n"
     ]
    }
   ],
   "source": [
    "edad = int(input(\"Ingrese edad: \"))"
   ]
  },
  {
   "cell_type": "code",
   "execution_count": 11,
   "id": "abecccd1-691f-4f37-b563-4635b39298b4",
   "metadata": {},
   "outputs": [
    {
     "name": "stdout",
     "output_type": "stream",
     "text": [
      "Es menor de edad\n"
     ]
    }
   ],
   "source": [
    "if edad > 18:\n",
    "    print(\"Es mayor de edad\")\n",
    "else:\n",
    "    print(\"Es menor de edad\")"
   ]
  }
 ],
 "metadata": {
  "kernelspec": {
   "display_name": "Python 3 (ipykernel)",
   "language": "python",
   "name": "python3"
  },
  "language_info": {
   "codemirror_mode": {
    "name": "ipython",
    "version": 3
   },
   "file_extension": ".py",
   "mimetype": "text/x-python",
   "name": "python",
   "nbconvert_exporter": "python",
   "pygments_lexer": "ipython3",
   "version": "3.10.12"
  }
 },
 "nbformat": 4,
 "nbformat_minor": 5
}
