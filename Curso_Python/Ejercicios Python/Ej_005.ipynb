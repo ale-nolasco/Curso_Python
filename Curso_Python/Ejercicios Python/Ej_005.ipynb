{
 "cells": [
  {
   "cell_type": "markdown",
   "id": "57413c88-6910-446b-a117-5b6dd4431344",
   "metadata": {},
   "source": [
    "# Programa 5\n",
    "\n",
    "## Hacer un programa que solicite un color por teclado e imprima “Puede pasar “ si el color ingresado es verde , “Precaución “ si es amarillo , “No pasar “ si es rojo o “Color inválido” si es cualquier otro."
   ]
  },
  {
   "cell_type": "code",
   "execution_count": 6,
   "id": "ce46f2d8-5a29-493e-bdf7-76ea15c2145d",
   "metadata": {},
   "outputs": [
    {
     "name": "stdin",
     "output_type": "stream",
     "text": [
      "Ingrese un color:  coral\n"
     ]
    }
   ],
   "source": [
    "color = input(\"Ingrese un color: \") # Verde, Amarillo, Rojo#\n",
    "color = color.lower()"
   ]
  },
  {
   "cell_type": "code",
   "execution_count": 7,
   "id": "910af5eb-0042-4c35-9908-8d13faca260d",
   "metadata": {},
   "outputs": [
    {
     "name": "stdout",
     "output_type": "stream",
     "text": [
      "Color invalido\n"
     ]
    }
   ],
   "source": [
    "if color == \"verde\":\n",
    "    print(\"Puede pasar\")\n",
    "elif color == \"amarillo\":\n",
    "    print(\"Precaucion\")\n",
    "elif color == \"rojo\":\n",
    "    print(\"No pasar\")\n",
    "else:\n",
    "    print(\"Color invalido\")"
   ]
  },
  {
   "cell_type": "code",
   "execution_count": null,
   "id": "a4cf35cb-952c-442d-9424-ebd29efdec98",
   "metadata": {},
   "outputs": [],
   "source": []
  }
 ],
 "metadata": {
  "kernelspec": {
   "display_name": "Python 3 (ipykernel)",
   "language": "python",
   "name": "python3"
  },
  "language_info": {
   "codemirror_mode": {
    "name": "ipython",
    "version": 3
   },
   "file_extension": ".py",
   "mimetype": "text/x-python",
   "name": "python",
   "nbconvert_exporter": "python",
   "pygments_lexer": "ipython3",
   "version": "3.10.12"
  }
 },
 "nbformat": 4,
 "nbformat_minor": 5
}
