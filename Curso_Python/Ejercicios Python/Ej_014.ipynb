{
 "cells": [
  {
   "cell_type": "markdown",
   "id": "6817d241-980b-4467-af80-fbac1967c7e8",
   "metadata": {},
   "source": [
    "# Programa 14\n",
    "\n",
    "## Crea un función EscribirCentrado, que reciba como parámetro un texto y lo escriba centrado en pantalla (suponiendo una anchura de 80 columnas; pista: deberás escribir 40 - longitud/2 espacios antes del texto). Además subraya el mensaje utilizando el carácter ="
   ]
  },
  {
   "cell_type": "code",
   "execution_count": 10,
   "id": "9c7aee68-4743-40d8-8441-7f2befb3daf7",
   "metadata": {},
   "outputs": [],
   "source": [
    "def EscibirCentrado(texto):\n",
    "\n",
    "    ancho = 80\n",
    "    longitud = len(texto)\n",
    "    espacios = (ancho - longitud) // 2\n",
    "\n",
    "    print(\" \"* espacios + texto)\n",
    "\n",
    "    print(\" \" * espacios + \"=\" * len(texto))"
   ]
  },
  {
   "cell_type": "code",
   "execution_count": 11,
   "id": "b0097841-de9b-4664-868c-653cc1b3a07b",
   "metadata": {},
   "outputs": [
    {
     "name": "stdin",
     "output_type": "stream",
     "text": [
      "Ingrese una cadena:  Hola amigos\n"
     ]
    }
   ],
   "source": [
    "cadena = input(\"Ingrese una cadena: \")"
   ]
  },
  {
   "cell_type": "code",
   "execution_count": 12,
   "id": "e4b47543-e98b-4260-9b5a-b10ee47db86c",
   "metadata": {},
   "outputs": [
    {
     "name": "stdout",
     "output_type": "stream",
     "text": [
      "                                  Hola amigos\n",
      "                                  ===========\n"
     ]
    }
   ],
   "source": [
    "EscibirCentrado(cadena)"
   ]
  },
  {
   "cell_type": "code",
   "execution_count": null,
   "id": "6e4842e0-13ab-42d1-b554-15f422417df7",
   "metadata": {},
   "outputs": [],
   "source": []
  }
 ],
 "metadata": {
  "kernelspec": {
   "display_name": "Python 3 (ipykernel)",
   "language": "python",
   "name": "python3"
  },
  "language_info": {
   "codemirror_mode": {
    "name": "ipython",
    "version": 3
   },
   "file_extension": ".py",
   "mimetype": "text/x-python",
   "name": "python",
   "nbconvert_exporter": "python",
   "pygments_lexer": "ipython3",
   "version": "3.10.12"
  }
 },
 "nbformat": 4,
 "nbformat_minor": 5
}
