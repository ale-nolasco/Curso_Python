{
 "cells": [
  {
   "cell_type": "markdown",
   "id": "6817d241-980b-4467-af80-fbac1967c7e8",
   "metadata": {},
   "source": [
    "# Programa 11\n",
    "\n",
    "## Hacer un programa que muestre el siguiente dibujo.\n",
    "## * * * * * * * * * *\n",
    "## * ................. *\n",
    "## * ................. *\n",
    "## * ................. *\n",
    "## * * * * * * * * * *"
   ]
  },
  {
   "cell_type": "code",
   "execution_count": 22,
   "id": "42467690-fd8f-47e4-a991-0e5a756d2e5e",
   "metadata": {},
   "outputs": [
    {
     "name": "stdout",
     "output_type": "stream",
     "text": [
      "* * * * * * * * * * \n",
      "*                 *\n",
      "*                 *\n",
      "*                 *\n",
      "* * * * * * * * * * \n"
     ]
    }
   ],
   "source": [
    "for i in range(5):\n",
    "    if i == 0 or i == 4:\n",
    "        print(\"* \" * 10)\n",
    "    else:\n",
    "        print(\"*                 *\")"
   ]
  },
  {
   "cell_type": "code",
   "execution_count": null,
   "id": "db6d115d-2865-4090-b93f-9764c5894404",
   "metadata": {},
   "outputs": [],
   "source": []
  }
 ],
 "metadata": {
  "kernelspec": {
   "display_name": "Python 3 (ipykernel)",
   "language": "python",
   "name": "python3"
  },
  "language_info": {
   "codemirror_mode": {
    "name": "ipython",
    "version": 3
   },
   "file_extension": ".py",
   "mimetype": "text/x-python",
   "name": "python",
   "nbconvert_exporter": "python",
   "pygments_lexer": "ipython3",
   "version": "3.10.12"
  }
 },
 "nbformat": 4,
 "nbformat_minor": 5
}
