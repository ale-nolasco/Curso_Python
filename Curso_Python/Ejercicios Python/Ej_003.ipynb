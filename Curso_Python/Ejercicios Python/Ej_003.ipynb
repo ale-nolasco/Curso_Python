{
 "cells": [
  {
   "cell_type": "markdown",
   "id": "6817d241-980b-4467-af80-fbac1967c7e8",
   "metadata": {},
   "source": [
    "# Programa 3\n",
    "\n",
    "## Hacer un programa que solicite una edad y determine si es mayor de edad."
   ]
  },
  {
   "cell_type": "code",
   "execution_count": 8,
   "id": "2ed95a1b-3307-4bdb-9c58-caa866dabd9d",
   "metadata": {},
   "outputs": [
    {
     "name": "stdin",
     "output_type": "stream",
     "text": [
      "Ingrese su edad:  19\n"
     ]
    }
   ],
   "source": [
    "edad = int(input(\"Ingrese su edad: \"))"
   ]
  },
  {
   "cell_type": "code",
   "execution_count": 10,
   "id": "9670c339-ae2f-4a29-9a8b-5d08449b5874",
   "metadata": {},
   "outputs": [
    {
     "name": "stdout",
     "output_type": "stream",
     "text": [
      "Es mayor de edad\n"
     ]
    }
   ],
   "source": [
    "if edad < 18:\n",
    "    print(\"Es menor de edad\")\n",
    "else: \n",
    "    print(\"Es mayor de edad\")"
   ]
  }
 ],
 "metadata": {
  "kernelspec": {
   "display_name": "Python 3 (ipykernel)",
   "language": "python",
   "name": "python3"
  },
  "language_info": {
   "codemirror_mode": {
    "name": "ipython",
    "version": 3
   },
   "file_extension": ".py",
   "mimetype": "text/x-python",
   "name": "python",
   "nbconvert_exporter": "python",
   "pygments_lexer": "ipython3",
   "version": "3.10.12"
  }
 },
 "nbformat": 4,
 "nbformat_minor": 5
}
