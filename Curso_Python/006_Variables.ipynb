{
 "cells": [
  {
   "cell_type": "code",
   "execution_count": 16,
   "id": "604d1d83-e4c1-4d0c-b692-f98bd854df5d",
   "metadata": {},
   "outputs": [],
   "source": [
    "a =1 \n",
    "decimal = 0.1\n",
    "complejo = 1 + 3j\n",
    "verdadero = True\n",
    "falso = False\n",
    "cadena1 = 'Hola mundo'\n",
    "cadena2 = \" Hola mundo\" "
   ]
  },
  {
   "cell_type": "code",
   "execution_count": 17,
   "id": "debc868f-a481-420d-a632-c223ed5f0648",
   "metadata": {},
   "outputs": [
    {
     "data": {
      "text/plain": [
       "str"
      ]
     },
     "execution_count": 17,
     "metadata": {},
     "output_type": "execute_result"
    }
   ],
   "source": [
    "type(a)\n",
    "type(decimal)\n",
    "type(complejo)\n",
    "type(verdadero)\n",
    "type(falso)\n",
    "type(cadena1)"
   ]
  },
  {
   "cell_type": "code",
   "execution_count": 18,
   "id": "f869dda2-cca1-46b1-a421-35c6113168af",
   "metadata": {},
   "outputs": [],
   "source": [
    "lista = [a,\"Hola\",decimal]"
   ]
  },
  {
   "cell_type": "code",
   "execution_count": 19,
   "id": "b53f7a4b-3cba-4c72-a119-c211815a82ad",
   "metadata": {},
   "outputs": [
    {
     "data": {
      "text/plain": [
       "0.1"
      ]
     },
     "execution_count": 19,
     "metadata": {},
     "output_type": "execute_result"
    }
   ],
   "source": [
    "lista[2]"
   ]
  },
  {
   "cell_type": "code",
   "execution_count": null,
   "id": "a320a34c-6d98-4fb9-8b3b-535ecb36c413",
   "metadata": {},
   "outputs": [],
   "source": []
  }
 ],
 "metadata": {
  "kernelspec": {
   "display_name": "Python 3 (ipykernel)",
   "language": "python",
   "name": "python3"
  },
  "language_info": {
   "codemirror_mode": {
    "name": "ipython",
    "version": 3
   },
   "file_extension": ".py",
   "mimetype": "text/x-python",
   "name": "python",
   "nbconvert_exporter": "python",
   "pygments_lexer": "ipython3",
   "version": "3.10.12"
  }
 },
 "nbformat": 4,
 "nbformat_minor": 5
}
